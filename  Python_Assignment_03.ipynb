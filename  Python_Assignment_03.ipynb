{
  "nbformat": 4,
  "nbformat_minor": 0,
  "metadata": {
    "colab": {
      "provenance": [],
      "collapsed_sections": [],
      "include_colab_link": true
    },
    "kernelspec": {
      "name": "python3",
      "display_name": "Python 3"
    },
    "language_info": {
      "name": "python"
    }
  },
  "cells": [
    {
      "cell_type": "markdown",
      "metadata": {
        "id": "view-in-github",
        "colab_type": "text"
      },
      "source": [
        "<a href=\"https://colab.research.google.com/github/AJJAMPUR-Amogh/Assignment/blob/main/%20Python_Assignment_03.ipynb\" target=\"_parent\"><img src=\"https://colab.research.google.com/assets/colab-badge.svg\" alt=\"Open In Colab\"/></a>"
      ]
    },
    {
      "cell_type": "markdown",
      "source": [
        "# ASSIGNMENTS - Compulsory\n",
        "## Send it before 0000 hrs IST or 12 AM Wednesday\n",
        "\n",
        "## NOTE: Evaluation will be done before next class.\n",
        "\n",
        "## HOW TO SUBMIT: -\n",
        "Download this notebook, Solve it and upload in the google form given in the mail."
      ],
      "metadata": {
        "id": "cyOfbWCdOjEr"
      }
    },
    {
      "cell_type": "markdown",
      "source": [
        "## Python String Manipulation\n",
        "\n",
        "1. Count the number of times `iNeuron` appears in the string.\n",
        "```python\n",
        "text = \"Welcome to iNeuron, You are a part of FSDS Bootcamp 2 in iNeuron. I hope you are enjoying the course by iNeuron\"\n",
        "```\n",
        "2. Check if position `5` to `11` ends with the phrase `iNeuron.` in the string \n",
        "```python\n",
        "txt = \"Hello, welcome to FSDS 2.0 at iNeuron.\"\n",
        "```\n",
        "3. Write a program that takes your full name as input and displays the abbreviations of the first and middle names except the last name which is displayed as it is. For example, if your name is Sunny Bhaveen Chandra, then the output should be S.B.Chandra.\n",
        "\n",
        "4. Join all items in a list into a string, using a hash(`#`) character as separator:\n",
        "```python\n",
        "LIST = [\"My\", \"name\", \"is\", \"Rishav\", \"Dash\"]\n",
        "```\n",
        "5. Write example for the following string manipulation function,\n",
        "\n",
        "  ```\n",
        "  - isdecimal()\n",
        "  - islower()\n",
        "  - isupper()\n",
        "  - isalpha()\n",
        "  - isnumeric()\n",
        "\n",
        "  ```\n",
        "6. Indian PAN card format follows the following formats - \n",
        "    - `AYEPC7894X`\n",
        "    - `ABCDE9999Y`\n",
        "  Take user input for PAN_CARD and validate as per the above example.\n"
      ],
      "metadata": {
        "id": "GT4IytkJMNa-"
      }
    },
    {
      "cell_type": "markdown",
      "source": [
        "1. Count the number of times `iNeuron` appears in the string.\n",
        "```python\n",
        "text = \"Welcome to iNeuron, You are a part of FSDS Bootcamp 2 in iNeuron. I hope you are enjoying the course by iNeuron\""
      ],
      "metadata": {
        "id": "kddcMYo2J5vT"
      }
    },
    {
      "cell_type": "code",
      "source": [
        "\n",
        "text = \"Welcome to iNeuron, You are a part of FSDS Bootcamp 2 in iNeuron. I hope you are enjoying the course by iNeuron\"\n",
        "text = text.replace(',', '') \n",
        "text = text.replace('.', '') \n",
        "count = 0\n",
        "words = text.split(' ')\n",
        "print(words)\n",
        "for word in words :\n",
        "   if word == 'iNeuron' :\n",
        "    count = count + 1\n",
        "\n",
        "print(f' The number of times iNeuron appeared is {count}')"
      ],
      "metadata": {
        "colab": {
          "base_uri": "https://localhost:8080/"
        },
        "id": "hnCYnt7ZJ60Z",
        "outputId": "3b208e3e-2553-4b75-b6b7-b30027a321f6"
      },
      "execution_count": 60,
      "outputs": [
        {
          "output_type": "stream",
          "name": "stdout",
          "text": [
            "['Welcome', 'to', 'iNeuron', 'You', 'are', 'a', 'part', 'of', 'FSDS', 'Bootcamp', '2', 'in', 'iNeuron', 'I', 'hope', 'you', 'are', 'enjoying', 'the', 'course', 'by', 'iNeuron']\n",
            " The number of times iNeuron appeared is 3\n"
          ]
        }
      ]
    },
    {
      "cell_type": "markdown",
      "source": [
        "2. Check if position `5` to `11` ends with the phrase `iNeuron.` in the string python\n",
        "txt = \"Hello, welcome to FSDS 2.0 at iNeuron.\" "
      ],
      "metadata": {
        "id": "RlHqhYEvNlYF"
      }
    },
    {
      "cell_type": "code",
      "source": [
        "txt = \"Hello, welcome to FSDS 2.0 at iNeuron.\" \n",
        "if txt[5:12] =='iNeuron' :\n",
        "  print(True)\n",
        "else :\n",
        "  print(False)"
      ],
      "metadata": {
        "colab": {
          "base_uri": "https://localhost:8080/"
        },
        "id": "p7RURV9kKeeS",
        "outputId": "3e93f44a-6c90-4725-b1c9-d03630e01264"
      },
      "execution_count": 19,
      "outputs": [
        {
          "output_type": "stream",
          "name": "stdout",
          "text": [
            "False\n"
          ]
        }
      ]
    },
    {
      "cell_type": "markdown",
      "source": [
        "3. Write a program that takes your full name as input and displays the abbreviations of the first and middle names except the last name which is displayed as it is. For example, if your name is Sunny Bhaveen Chandra, then the output should be S.B.Chandra."
      ],
      "metadata": {
        "id": "_Jk8B5GzOxnW"
      }
    },
    {
      "cell_type": "code",
      "source": [
        "name = input(' Your full name is')\n",
        "firstname, middlename , lastname = name.split(' ')\n",
        "print(f\"{firstname[0]}.{middlename[0]}.{lastname}\")"
      ],
      "metadata": {
        "colab": {
          "base_uri": "https://localhost:8080/"
        },
        "id": "a7tdu-Y1OeUy",
        "outputId": "d62d0e8b-bbe1-4d87-f288-1ee413979ab2"
      },
      "execution_count": 27,
      "outputs": [
        {
          "output_type": "stream",
          "name": "stdout",
          "text": [
            " Your full name isAmogh Suryaprakash Ajjampur\n",
            "A.S.Ajjampur\n"
          ]
        }
      ]
    },
    {
      "cell_type": "markdown",
      "source": [
        "4. Join all items in a list into a string, using a hash(`#`) character as separator:\n",
        "```python\n",
        "LIST = [\"My\", \"name\", \"is\", \"Rishav\", \"Dash\"]\n",
        "```"
      ],
      "metadata": {
        "id": "Ca8nN-6WRAIY"
      }
    },
    {
      "cell_type": "code",
      "source": [
        "l = [\"My\", \"name\", \"is\", \"Rishav\", \"Dash\"]\n",
        "'#'.join(l)"
      ],
      "metadata": {
        "colab": {
          "base_uri": "https://localhost:8080/",
          "height": 35
        },
        "id": "kkgzIDASPYxY",
        "outputId": "b94693e8-9d9c-4b3f-9d84-ffd544653a2c"
      },
      "execution_count": 28,
      "outputs": [
        {
          "output_type": "execute_result",
          "data": {
            "text/plain": [
              "'My#name#is#Rishav#Dash'"
            ],
            "application/vnd.google.colaboratory.intrinsic+json": {
              "type": "string"
            }
          },
          "metadata": {},
          "execution_count": 28
        }
      ]
    },
    {
      "cell_type": "markdown",
      "source": [
        "5. Write example for the following string manipulation function,\n",
        "\n",
        "  ```\n",
        "  - isdecimal()\n",
        "  - islower()\n",
        "  - isupper()\n",
        "  - isalpha()\n",
        "  - isnumeric()\n",
        "\n",
        "  ```"
      ],
      "metadata": {
        "id": "rphfTyblRsY0"
      }
    },
    {
      "cell_type": "code",
      "source": [
        "words = ['3253', 'datascience','MACHINELEARNING','adcnjmsac']\n",
        "numeric = []\n",
        "lower = []\n",
        "al = []\n",
        "upper = []\n",
        "for i in words :\n",
        "  if i.isnumeric() or i.isdecimal() :\n",
        "    numeric.append(i)\n",
        "  elif i.isalpha() :\n",
        "    al.append(i)  \n",
        "    if i.islower() :\n",
        "      lower.append(i)\n",
        "    elif i.isupper() :\n",
        "      upper.append(i) \n",
        "  \n",
        "\n",
        "print('The list of words are sorted based on nummbers, uppercase, lowercase, alphabets')\n",
        "print('Numerical = ',numeric)\n",
        "print('Lower case = ', lower)\n",
        "print('Upper case = ', upper)\n",
        "print('Alphabets = ',al ) "
      ],
      "metadata": {
        "colab": {
          "base_uri": "https://localhost:8080/"
        },
        "id": "BgPjNl0GRmC7",
        "outputId": "b9c87d86-0c00-4ec0-b6dc-376fac8f5291"
      },
      "execution_count": 48,
      "outputs": [
        {
          "output_type": "stream",
          "name": "stdout",
          "text": [
            "The list of words are sorted based on nummbers, uppercase, lowercase, alphabets\n",
            "Numerical =  ['3253']\n",
            "Lower case =  ['datascience', 'adcnjmsac']\n",
            "Upper case =  ['MACHINELEARNING']\n",
            "Alphabets =  ['datascience', 'MACHINELEARNING', 'adcnjmsac']\n"
          ]
        }
      ]
    },
    {
      "cell_type": "markdown",
      "source": [
        "6. Indian PAN card format follows the following formats -\n",
        "\n",
        "  AYEPC7894X\n",
        "  ABCDE9999Y Take user input for PAN_CARD and validate as per the above example."
      ],
      "metadata": {
        "id": "xDP3as3UYklG"
      }
    },
    {
      "cell_type": "code",
      "source": [
        "condition = False\n",
        "while not condition :\n",
        "  pan_num = input('Enter yout pan number')\n",
        "  if pan_num[ : 5].isalpha() and pan_num[5 : 9].isdigit() and pan_num[-1].isalpha and pan_num.isupper() :\n",
        "    print('Thank You, You entered in the right format ')\n",
        "    condition = True\n",
        "  else :\n",
        "    print('Please Enter in the right format')"
      ],
      "metadata": {
        "colab": {
          "base_uri": "https://localhost:8080/"
        },
        "id": "2lGxya-hTexy",
        "outputId": "2334cabe-34a4-4632-a3a3-198800ce625a"
      },
      "execution_count": 59,
      "outputs": [
        {
          "output_type": "stream",
          "name": "stdout",
          "text": [
            "Enter yout pan number12313.23.\n",
            "Please Enter in the right format\n",
            "Enter yout pan numberAYEPC7894X\n",
            "Thank You, You entered in the right format \n"
          ]
        }
      ]
    }
  ]
}
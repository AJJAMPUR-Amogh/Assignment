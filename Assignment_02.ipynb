{
  "nbformat": 4,
  "nbformat_minor": 0,
  "metadata": {
    "colab": {
      "provenance": [],
      "collapsed_sections": [],
      "authorship_tag": "ABX9TyNEN8TNOo4GjJwgpDTWE71q",
      "include_colab_link": true
    },
    "kernelspec": {
      "name": "python3",
      "display_name": "Python 3"
    },
    "language_info": {
      "name": "python"
    }
  },
  "cells": [
    {
      "cell_type": "markdown",
      "metadata": {
        "id": "view-in-github",
        "colab_type": "text"
      },
      "source": [
        "<a href=\"https://colab.research.google.com/github/AJJAMPUR-Amogh/Assignment/blob/main/Assignment_02.ipynb\" target=\"_parent\"><img src=\"https://colab.research.google.com/assets/colab-badge.svg\" alt=\"Open In Colab\"/></a>"
      ]
    },
    {
      "cell_type": "markdown",
      "source": [
        "1.\n",
        "What is indentation error? Why indentation is important? Give one simple example?\n"
      ],
      "metadata": {
        "id": "S-p-9xZG0OQ3"
      }
    },
    {
      "cell_type": "markdown",
      "source": [
        "\n",
        "Indentation error is syntax error where python does not understand the control statements and which block the code belongs. Indentation error can change the whole program if it is not taken care.\n",
        "Examples : We wanted to print the final count value in the program but due to indentation error we printed count in every single loop. Python does pops an error but we wont get desired output  "
      ],
      "metadata": {
        "id": "kxvUBhSR0Sy4"
      }
    },
    {
      "cell_type": "code",
      "source": [
        "count=0 \n",
        "for i in range(10) :\n",
        "  count += 1\n",
        "  print(count) "
      ],
      "metadata": {
        "colab": {
          "base_uri": "https://localhost:8080/"
        },
        "id": "NiE_WXTm0N8q",
        "outputId": "53009d2d-404c-4645-d3fd-767af1b4c382"
      },
      "execution_count": null,
      "outputs": [
        {
          "output_type": "stream",
          "name": "stdout",
          "text": [
            "1\n",
            "2\n",
            "3\n",
            "4\n",
            "5\n",
            "6\n",
            "7\n",
            "8\n",
            "9\n",
            "10\n"
          ]
        }
      ]
    },
    {
      "cell_type": "code",
      "execution_count": null,
      "metadata": {
        "colab": {
          "base_uri": "https://localhost:8080/"
        },
        "id": "5ElDp6VG0Kc9",
        "outputId": "d3633e33-2942-47ca-e48d-a8b5e89a638a"
      },
      "outputs": [
        {
          "output_type": "stream",
          "name": "stdout",
          "text": [
            "10\n"
          ]
        }
      ],
      "source": [
        "count=0 \n",
        "for i in range(10) :\n",
        "  count += 1\n",
        "print(count) "
      ]
    },
    {
      "cell_type": "markdown",
      "source": [
        "2. \n",
        "Correct the following code and write the comment where you made the correction?"
      ],
      "metadata": {
        "id": "4SGRk2tF4dU1"
      }
    },
    {
      "cell_type": "code",
      "source": [
        "class_started = bool(int(input(\"Hey friend, is class started?: [0-False/1-True]\")))# Since the input() function always take strings as input this always makes it true. so we have to convert it to integer\n",
        "\n",
        "if class_started:\n",
        "   print(\"Since class started...\")\n",
        "   print(\"Lets concentrate\")\n",
        "else:\n",
        "   print(\"Since class is not started...\")\n",
        "   print(\"let's revise\") "
      ],
      "metadata": {
        "colab": {
          "base_uri": "https://localhost:8080/"
        },
        "id": "cRVeRp954cG6",
        "outputId": "be3e65fc-e42c-4fdb-f658-c4df9f0c3158"
      },
      "execution_count": null,
      "outputs": [
        {
          "output_type": "stream",
          "name": "stdout",
          "text": [
            "Hey friend, is class started?: [0-False/1-True]0\n",
            "Since class is not started...\n",
            "let's revise\n"
          ]
        }
      ]
    },
    {
      "cell_type": "markdown",
      "source": [
        "3.\n",
        "Use if else condition to verify that dataype of input() method in python is always string.\n"
      ],
      "metadata": {
        "id": "D_PR32kt72vG"
      }
    },
    {
      "cell_type": "code",
      "source": [
        "number = input(' Enter a number between 0-10') \n",
        "if number in range(11) :\n",
        "  print ( ' Nice choice ! ')\n",
        "else :\n",
        "  print( ' Choose the number between 0-10')"
      ],
      "metadata": {
        "colab": {
          "base_uri": "https://localhost:8080/"
        },
        "id": "K5NMw3XG3as7",
        "outputId": "a79ab4b4-5f6a-465c-eda7-8164bf315041"
      },
      "execution_count": null,
      "outputs": [
        {
          "output_type": "stream",
          "name": "stdout",
          "text": [
            " Enter a number between 0-1012\n",
            " Choose the number between 0-10\n"
          ]
        }
      ]
    },
    {
      "cell_type": "markdown",
      "source": [
        "4. \n",
        "Take 3 variables and assign integer values to them. Find the largest variable, by only using the if and else conditions.\n"
      ],
      "metadata": {
        "id": "km7I99Z3-HeB"
      }
    },
    {
      "cell_type": "code",
      "source": [
        "a = int(input('enter first numbers '))\n",
        "b= int(input('enter second number'))\n",
        "c= int(input('enter third number'))\n",
        "\n",
        "if a>b and a>c :\n",
        "  print(f'First is greatest number : {a}')\n",
        "elif b>a and b>c :\n",
        "  print(f'Second is greatest number: {b}')\n",
        "else : \n",
        "  print(f'Second is greatest number: {c}')\n"
      ],
      "metadata": {
        "colab": {
          "base_uri": "https://localhost:8080/"
        },
        "id": "LAI5NkCv6-yj",
        "outputId": "bfa74b40-16c9-44ff-ec0e-f12f68c69abf"
      },
      "execution_count": null,
      "outputs": [
        {
          "output_type": "stream",
          "name": "stdout",
          "text": [
            "enter first numbers 20\n",
            "enter second number120\n",
            "enter third number3\n",
            "Second is greatest number: 120\n"
          ]
        }
      ]
    },
    {
      "cell_type": "markdown",
      "source": [
        "5. \n",
        "What would be the solution?\n",
        "\n",
        "True\n",
        "\n",
        "False\n",
        "\n",
        "a = 6\n",
        "b = 10\n",
        "print( not ( not a == 10 or not b == 10) )"
      ],
      "metadata": {
        "id": "V6LFjrWdCmwD"
      }
    },
    {
      "cell_type": "code",
      "source": [
        "a = 6\n",
        "b = 10\n",
        "print( not ( not a == 10 or not b == 10) )"
      ],
      "metadata": {
        "id": "dIKobvjz-b-8",
        "colab": {
          "base_uri": "https://localhost:8080/"
        },
        "outputId": "978642f1-4122-4e5d-e37a-cc29912fe955"
      },
      "execution_count": null,
      "outputs": [
        {
          "output_type": "stream",
          "name": "stdout",
          "text": [
            "False\n"
          ]
        }
      ]
    },
    {
      "cell_type": "markdown",
      "source": [
        "6.\n",
        "Find the answer as well as find out the reason behind the result? -\n",
        "\n",
        "case 1:\n",
        "  A = 5.0\n",
        "  B = 10/2\n",
        "  print(A is B)\n",
        "\n",
        "case 2:\n",
        "  A = 5.0\n",
        "  B = int(10/2)\n",
        "  print(A is B)\n",
        "  \n",
        "case 3:\n",
        "  A = 5.0\n",
        "  B = float(10/2)\n",
        "  print(A is B)"
      ],
      "metadata": {
        "id": "2IPB2ulIWxeJ"
      }
    },
    {
      "cell_type": "code",
      "source": [
        "#case1 \n",
        "\n",
        "A = 5.0\n",
        "B = 10/2\n",
        "print(A is B) "
      ],
      "metadata": {
        "id": "hZbqYOKnCrC3",
        "colab": {
          "base_uri": "https://localhost:8080/"
        },
        "outputId": "10fe56f8-ca88-4ac1-eea9-91986cdda2da"
      },
      "execution_count": null,
      "outputs": [
        {
          "output_type": "stream",
          "name": "stdout",
          "text": [
            "False\n"
          ]
        }
      ]
    },
    {
      "cell_type": "markdown",
      "source": [
        "The values of A and B are not same, which is false. the is keywords verifies the values and gives boolen result }"
      ],
      "metadata": {
        "id": "HFXZKMGMXIDR"
      }
    },
    {
      "cell_type": "code",
      "source": [
        "  A = 5.0\n",
        "  B = int(10/2)\n",
        "  print(A is B)"
      ],
      "metadata": {
        "colab": {
          "base_uri": "https://localhost:8080/"
        },
        "id": "kba_Iqj_W8Qa",
        "outputId": "cd626a8e-fd71-4035-b549-10a96c851f96"
      },
      "execution_count": null,
      "outputs": [
        {
          "output_type": "stream",
          "name": "stdout",
          "text": [
            "False\n"
          ]
        }
      ]
    },
    {
      "cell_type": "code",
      "source": [
        "  A = 10.0\n",
        "  B = 10.0\n",
        "\n",
        "  print(A is B)"
      ],
      "metadata": {
        "colab": {
          "base_uri": "https://localhost:8080/"
        },
        "id": "AtTFVb-oXfxq",
        "outputId": "22094204-1227-4c83-da1c-dc95e182e466"
      },
      "execution_count": 11,
      "outputs": [
        {
          "output_type": "stream",
          "name": "stdout",
          "text": [
            "False\n"
          ]
        }
      ]
    },
    {
      "cell_type": "code",
      "source": [
        "print(id(A))\n",
        "print(id(B))"
      ],
      "metadata": {
        "colab": {
          "base_uri": "https://localhost:8080/"
        },
        "id": "bg1YOoKGvEBP",
        "outputId": "a2e9da51-30f6-40ff-d909-e3b456e65a7d"
      },
      "execution_count": 12,
      "outputs": [
        {
          "output_type": "stream",
          "name": "stdout",
          "text": [
            "140543682772432\n",
            "140543888126608\n"
          ]
        }
      ]
    },
    {
      "cell_type": "markdown",
      "source": [
        "7. \n",
        "Write a program that asks the user to enter a number. You should print out a message to the user, either “That number is divisible by either 3 or 5”, or “That number is not divisible by either 3 or 5”. Be sure to consider the data type of the input you are taking in from the user. Use a single if/else block to solve this problem"
      ],
      "metadata": {
        "id": "cBLivcpza9EC"
      }
    },
    {
      "cell_type": "code",
      "source": [
        "num= int(input('Enter a number to verify the divisibility with 3 or 5'))\n",
        "\n",
        "if (num % 3 == 0 or num % 5 == 0)  : \n",
        "  print( 'The number is divisible by 3 or 5' ) \n",
        "else : \n",
        "  print( 'The number is not divisible by 3 or 5' )"
      ],
      "metadata": {
        "colab": {
          "base_uri": "https://localhost:8080/"
        },
        "id": "3PpHxm5ma-Hc",
        "outputId": "8a04168b-ef6f-4ef9-fd3d-1016206d46a9"
      },
      "execution_count": null,
      "outputs": [
        {
          "output_type": "stream",
          "name": "stdout",
          "text": [
            "Enter a number to verify the divisibility with 3 or 515\n",
            "The number is divisible by 3 or 5\n"
          ]
        }
      ]
    },
    {
      "cell_type": "markdown",
      "source": [
        "8.\n",
        "Take user input for length and width. Then calculate the area of rectangle. Also print as per length and width whether its a square of rectangle.\n"
      ],
      "metadata": {
        "id": "T7RjoK0geKXD"
      }
    },
    {
      "cell_type": "code",
      "source": [
        "leng= int(input('Enter length of the rectangle'))\n",
        "width= int(input('Enter width of the rectangle'))\n",
        "print(f'The volume of rectangle is {leng*width}')"
      ],
      "metadata": {
        "colab": {
          "base_uri": "https://localhost:8080/"
        },
        "id": "e6og8AY8eOih",
        "outputId": "6038f591-f9f3-4f01-ad8c-25f417df20e6"
      },
      "execution_count": null,
      "outputs": [
        {
          "output_type": "stream",
          "name": "stdout",
          "text": [
            "Enter length of the rectangle25\n",
            "Enter width of the rectangle10\n",
            "The volume of rectangle is 250\n"
          ]
        }
      ]
    },
    {
      "cell_type": "markdown",
      "source": [
        "9. \n",
        "Take two variable radius_1 and radius_2 and calculate the area of circle_1 and circle_2. Also print which circle has large area. If area is equal then print area is equal."
      ],
      "metadata": {
        "id": "se42CJiZvq-W"
      }
    },
    {
      "cell_type": "code",
      "source": [
        "rad1= int(input('Enter radius of first circle  '))\n",
        "rad2= int(input('Enter radius of second circle  '))\n",
        "PI = 3.412\n",
        "a_rad1 = PI*rad1**2\n",
        "a_rad2 = PI*rad2**2\n",
        "\n",
        "if a_rad1 > a_rad2 :\n",
        "  print('Area of first circle is bigger')\n",
        "else :\n",
        "  print('Area of second circle is bigger')\n",
        "if a_rad1 == a_rad2 :\n",
        "  print('The area of the circles are equal')\n"
      ],
      "metadata": {
        "id": "tQvdQIYMev2J",
        "colab": {
          "base_uri": "https://localhost:8080/"
        },
        "outputId": "96a75a96-b9f4-4a80-8e64-acf787cea25a"
      },
      "execution_count": 16,
      "outputs": [
        {
          "output_type": "stream",
          "name": "stdout",
          "text": [
            "Enter radius of first circle  25\n",
            "Enter radius of second circle  32\n",
            "Area of second circle is bigger\n"
          ]
        }
      ]
    },
    {
      "cell_type": "markdown",
      "source": [
        "10.\n",
        "Check whether a year is leap year or not. Use nested if...else to solve this problem. A leap year is exactly divisible by 4 except for century years (years ending with 00). The century year is a leap year only if it is perfectly divisible by 400."
      ],
      "metadata": {
        "id": "QSck4ZkUy0eZ"
      }
    },
    {
      "cell_type": "code",
      "source": [
        "year = int(input('Enter the year to check whether it is a leap year or not. '))\n",
        "\n",
        "if year % 4 == 0 :\n",
        "  if year % 400 == 0 and year % 4 == 0   : \n",
        "    print('It is a leap year')\n",
        "  else :\n",
        "    print('It is not a leap year')\n",
        "  \n",
        "else : \n",
        "  print('It is not a leap year')\n",
        "\n"
      ],
      "metadata": {
        "colab": {
          "base_uri": "https://localhost:8080/"
        },
        "id": "L3KtrEiTxFJA",
        "outputId": "cc8a4e16-2ebb-4c73-f376-f0a7dbac1846"
      },
      "execution_count": 21,
      "outputs": [
        {
          "output_type": "stream",
          "name": "stdout",
          "text": [
            "Enter the year to check whether it is a leap year or not. 2000\n",
            "It is a leap year\n"
          ]
        }
      ]
    },
    {
      "cell_type": "code",
      "source": [],
      "metadata": {
        "id": "Bte_xlqQ0nmk"
      },
      "execution_count": null,
      "outputs": []
    }
  ]
}
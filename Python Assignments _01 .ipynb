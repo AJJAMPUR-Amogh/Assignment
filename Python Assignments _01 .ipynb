{
 "cells": [
  {
   "cell_type": "markdown",
   "id": "666b6c22",
   "metadata": {},
   "source": [
    "# Questions"
   ]
  },
  {
   "cell_type": "markdown",
   "id": "47cbf08f",
   "metadata": {},
   "source": [
    "ASSIGNMENTS - NOT compulsory but usefull!!\n",
    " I am not at loss if you don't submit\n",
    "send the mail to \n",
    " send it before 0000 hrs IST | 12 AM tonight\n",
    " Special cases respond atleast before 1200 hrs IST tomorrow i.e Monday\n",
    "\n",
    "TO: query@ineuron.ai\n",
    "CC: sunny@ineuron.ai, riishav@ineuron.ai, boktiar@ineuron.ai\n",
    " \n",
    "Subject: [Bootcamp 2.0 | Assignment No. 1]: \n",
    "\n",
    "1. Find out all the types of error that we have encountered in our lecture and why? Also include the examples.\n",
    "2. Take input A and B and print their sum, mul, div, square of the nos.\n",
    "3. How many reserve keywords are there in python and why we should not use them as a variable name.\n",
    "4. Create email ids with the user inputs. in the following format - \n",
    "lastname.firstname@gmail.com\n",
    "5. Try to print the following lines - \n",
    "  - Hi I'm Sunny\n",
    "  - My address is 22\\3 \n",
    "  - I earn 20$ daily.\n",
    "6. Take user input (name, address, date of birth etc) to fill a form for your college and print their email IDs\n",
    "7. Convert the following - \n",
    "  - \"22.4\" into integer\n",
    "  - \"22\" into complex no.\n"
   ]
  },
  {
   "cell_type": "markdown",
   "id": "689d9293",
   "metadata": {},
   "source": [
    "Find out all the types of error that we have encountered in our lecture and why? Also include the examples."
   ]
  },
  {
   "cell_type": "markdown",
   "id": "2dbd7a2b",
   "metadata": {},
   "source": [
    " Print statement should be in samll letters and followed by a parenthesis and printing statement should be in single quotes or double quotes. if any code violates this formate puthon throws a syntax error. \n",
    "If printing statement contains any single quotes, then we should use the double quotes \n"
   ]
  },
  {
   "cell_type": "code",
   "execution_count": 3,
   "id": "9162d489",
   "metadata": {
    "scrolled": true
   },
   "outputs": [
    {
     "ename": "SyntaxError",
     "evalue": "Missing parentheses in call to 'print'. Did you mean print('Errors in python ')? (1134560079.py, line 1)",
     "output_type": "error",
     "traceback": [
      "\u001b[1;36m  Input \u001b[1;32mIn [3]\u001b[1;36m\u001b[0m\n\u001b[1;33m    print 'Errors in python '\u001b[0m\n\u001b[1;37m          ^\u001b[0m\n\u001b[1;31mSyntaxError\u001b[0m\u001b[1;31m:\u001b[0m Missing parentheses in call to 'print'. Did you mean print('Errors in python ')?\n"
     ]
    }
   ],
   "source": [
    "print 'Errors in python '"
   ]
  },
  {
   "cell_type": "code",
   "execution_count": 7,
   "id": "be1bcb4f",
   "metadata": {},
   "outputs": [
    {
     "ename": "NameError",
     "evalue": "name 'Print' is not defined",
     "output_type": "error",
     "traceback": [
      "\u001b[1;31m---------------------------------------------------------------------------\u001b[0m",
      "\u001b[1;31mNameError\u001b[0m                                 Traceback (most recent call last)",
      "Input \u001b[1;32mIn [7]\u001b[0m, in \u001b[0;36m<cell line: 1>\u001b[1;34m()\u001b[0m\n\u001b[1;32m----> 1\u001b[0m \u001b[43mPrint\u001b[49m(\u001b[38;5;124m'\u001b[39m\u001b[38;5;124mErrors in python\u001b[39m\u001b[38;5;124m'\u001b[39m)\n",
      "\u001b[1;31mNameError\u001b[0m: name 'Print' is not defined"
     ]
    }
   ],
   "source": [
    "Print('Errors in python')"
   ]
  },
  {
   "cell_type": "code",
   "execution_count": 8,
   "id": "09d849c4",
   "metadata": {},
   "outputs": [
    {
     "name": "stdout",
     "output_type": "stream",
     "text": [
      "Errors in python\n"
     ]
    }
   ],
   "source": [
    "print('Errors in python')"
   ]
  },
  {
   "cell_type": "code",
   "execution_count": null,
   "id": "40f5ce6f",
   "metadata": {},
   "outputs": [],
   "source": [
    "Defining a variable Name.\n",
    "The rules for variable name are \n",
    "\n",
    "1.The variable name should not be any pre-defined python function or any data types.\n",
    "\n",
    "2.The variable should not start with number or any special charecter (except '_' used for hidden variables).\n",
    "\n",
    "3.The variables are case sensitive.\n",
    "\n",
    "4.Variable name should not be as same as reserved words or keywords. since the python doesn't throws any error but it will affect the codes. "
   ]
  },
  {
   "cell_type": "code",
   "execution_count": 18,
   "id": "96e217a8",
   "metadata": {},
   "outputs": [
    {
     "ename": "SyntaxError",
     "evalue": "invalid syntax (3008277113.py, line 2)",
     "output_type": "error",
     "traceback": [
      "\u001b[1;36m  Input \u001b[1;32mIn [18]\u001b[1;36m\u001b[0m\n\u001b[1;33m    1num= 20\u001b[0m\n\u001b[1;37m     ^\u001b[0m\n\u001b[1;31mSyntaxError\u001b[0m\u001b[1;31m:\u001b[0m invalid syntax\n"
     ]
    }
   ],
   "source": [
    "#examples\n",
    "1num= 20\n",
    "print(1num))"
   ]
  },
  {
   "cell_type": "code",
   "execution_count": 21,
   "id": "e4d97415",
   "metadata": {},
   "outputs": [],
   "source": [
    "# int = 20 "
   ]
  },
  {
   "cell_type": "code",
   "execution_count": 22,
   "id": "57ea9ae7",
   "metadata": {},
   "outputs": [
    {
     "ename": "SyntaxError",
     "evalue": "invalid syntax (3197098377.py, line 1)",
     "output_type": "error",
     "traceback": [
      "\u001b[1;36m  Input \u001b[1;32mIn [22]\u001b[1;36m\u001b[0m\n\u001b[1;33m    $a = 'wrong variable name '\u001b[0m\n\u001b[1;37m    ^\u001b[0m\n\u001b[1;31mSyntaxError\u001b[0m\u001b[1;31m:\u001b[0m invalid syntax\n"
     ]
    }
   ],
   "source": [
    "$a = 'wrong variable name '"
   ]
  },
  {
   "cell_type": "markdown",
   "id": "e204606f",
   "metadata": {},
   "source": [
    "2.Take input A and B and print their sum, mul, div, square of the nos."
   ]
  },
  {
   "cell_type": "code",
   "execution_count": 14,
   "id": "ee1ea8dd",
   "metadata": {},
   "outputs": [
    {
     "name": "stdout",
     "output_type": "stream",
     "text": [
      "Enter the first number50\n",
      "Enter the second number25\n",
      "The sum of 2 number is 75\n",
      "The subtration of 2 numbers is 25\n",
      "The divsion of 2 numbers is 2.0\n",
      "The square of number 1 is 2500\n",
      "The square of number 2 is 625\n"
     ]
    }
   ],
   "source": [
    "num1 = int(input('Enter the first number'))\n",
    "num2 = int(input('Enter the second number'))\n",
    "\n",
    "summation= num1 + num2 \n",
    "print(f'The sum of 2 number is {summation}')\n",
    "\n",
    "sub = num1- num2\n",
    "print(f'The subtration of 2 numbers is {sub}')\n",
    "\n",
    "div = num1/num2\n",
    "print(f'The divsion of 2 numbers is {div}')\n",
    "\n",
    "square1 = num1*num1\n",
    "square2 = num2*num2 \n",
    "\n",
    "print(f'The square of number 1 is {square1}')\n",
    "print(f'The square of number 2 is {square2}')"
   ]
  },
  {
   "cell_type": "markdown",
   "id": "018adb0b",
   "metadata": {},
   "source": [
    "3 .How many reserve keywords are there in python and why we should not use them as a variable name."
   ]
  },
  {
   "cell_type": "markdown",
   "id": "71c919f3",
   "metadata": {},
   "source": [
    "There are 33 keywords or reserve words in python.we should not use as variable since it affect the actual python keywords.\n"
   ]
  },
  {
   "cell_type": "code",
   "execution_count": 24,
   "id": "1aabb7d8",
   "metadata": {},
   "outputs": [],
   "source": [
    "# example\n",
    "#print = 10 \n",
    "#print('something')\n"
   ]
  },
  {
   "cell_type": "code",
   "execution_count": 25,
   "id": "2ce27e09",
   "metadata": {},
   "outputs": [],
   "source": [
    "#int = 23\n",
    "#num= '23'\n",
    "#int(num)"
   ]
  },
  {
   "cell_type": "markdown",
   "id": "cbfffcbe",
   "metadata": {},
   "source": [
    "4 . Create email ids with the user inputs. in the following format - lastname.firstname@gmail.com\n"
   ]
  },
  {
   "cell_type": "code",
   "execution_count": 1,
   "id": "ca55ed23",
   "metadata": {},
   "outputs": [
    {
     "name": "stdout",
     "output_type": "stream",
     "text": [
      "Enter your last name\n",
      "ajjampur\n",
      "Enter your first name \n",
      "amogh\n",
      "Your suggested email ID is ajjampur.amogh@gmail\n"
     ]
    }
   ],
   "source": [
    "lastn = input('Enter your last name\\n')\n",
    "firstn = input('Enter your first name \\n')\n",
    "print(f\"Your suggested email ID is {lastn}.{firstn}@gmail\")"
   ]
  },
  {
   "cell_type": "markdown",
   "id": "0480602f",
   "metadata": {},
   "source": [
    "5. Try to print the following lines -\n",
    "\n",
    "Hi I'm Sunny\n",
    "\n",
    "My address is 22\\3\n",
    "\n",
    "I earn 20$ daily."
   ]
  },
  {
   "cell_type": "code",
   "execution_count": 3,
   "id": "56ee9710",
   "metadata": {},
   "outputs": [
    {
     "name": "stdout",
     "output_type": "stream",
     "text": [
      "Try to print the following lines -\n",
      "Hi I'm Sunny\n",
      "My address is 22/3\n",
      "I earn 20$ daily.\n"
     ]
    }
   ],
   "source": [
    "print('''Try to print the following lines -\n",
    "Hi I'm Sunny\n",
    "My address is 22/3\n",
    "I earn 20$ daily.''')"
   ]
  },
  {
   "cell_type": "markdown",
   "id": "53df57cd",
   "metadata": {},
   "source": [
    "6. Take user input (name, address, date of birth etc) to fill a form for your college and print their email IDs"
   ]
  },
  {
   "cell_type": "code",
   "execution_count": 9,
   "id": "da55b093",
   "metadata": {},
   "outputs": [
    {
     "name": "stdout",
     "output_type": "stream",
     "text": [
      "Enter your first nameAmogh\n",
      "Enter your last nameajjampur\n",
      "Enter data of birth17/11/1996\n",
      "Enter the addressbengaluru\n",
      " Student name   - Amogh ajjampur\n",
      "            date of birth - 17/11/1996 \n",
      "            address       -  bengaluru\n",
      "            email id   -  ajjampur.Amogh@gmail.com \n"
     ]
    }
   ],
   "source": [
    "fname= input('Enter your first name')\n",
    "lname= input('Enter your last name')\n",
    "date= input('Enter data of birth')\n",
    "add= input('Enter the address')\n",
    "print(f''' Student name   - {fname} {lname}\n",
    "            date of birth - {date} \n",
    "            address       -  {add}\n",
    "            email id   -  {lname}.{fname}@gmail.com ''' )"
   ]
  },
  {
   "cell_type": "markdown",
   "id": "9cdf4376",
   "metadata": {},
   "source": [
    "7. Convert the following -\n",
    "\"22.4\" into integer\n",
    "\"22\" into complex no."
   ]
  },
  {
   "cell_type": "code",
   "execution_count": 16,
   "id": "612a6d92",
   "metadata": {},
   "outputs": [
    {
     "name": "stdout",
     "output_type": "stream",
     "text": [
      "22.4\n"
     ]
    }
   ],
   "source": [
    "# Since 22.4 is floating number so we can't convert it to integers\n",
    "string = '22.4'\n",
    "print(float(string))"
   ]
  },
  {
   "cell_type": "code",
   "execution_count": 17,
   "id": "5c440395",
   "metadata": {},
   "outputs": [
    {
     "data": {
      "text/plain": [
       "(22+0j)"
      ]
     },
     "execution_count": 17,
     "metadata": {},
     "output_type": "execute_result"
    }
   ],
   "source": [
    "# convertion of string to complex\n",
    "a = 22 \n",
    "complex(a)"
   ]
  },
  {
   "cell_type": "code",
   "execution_count": null,
   "id": "74a5b4be",
   "metadata": {},
   "outputs": [],
   "source": []
  }
 ],
 "metadata": {
  "kernelspec": {
   "display_name": "Python 3 (ipykernel)",
   "language": "python",
   "name": "python3"
  },
  "language_info": {
   "codemirror_mode": {
    "name": "ipython",
    "version": 3
   },
   "file_extension": ".py",
   "mimetype": "text/x-python",
   "name": "python",
   "nbconvert_exporter": "python",
   "pygments_lexer": "ipython3",
   "version": "3.9.12"
  }
 },
 "nbformat": 4,
 "nbformat_minor": 5
}

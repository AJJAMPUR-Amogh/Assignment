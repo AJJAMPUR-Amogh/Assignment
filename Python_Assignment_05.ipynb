{
  "nbformat": 4,
  "nbformat_minor": 0,
  "metadata": {
    "colab": {
      "provenance": [],
      "collapsed_sections": [],
      "include_colab_link": true
    },
    "kernelspec": {
      "name": "python3",
      "display_name": "Python 3"
    },
    "language_info": {
      "name": "python"
    }
  },
  "cells": [
    {
      "cell_type": "markdown",
      "metadata": {
        "id": "view-in-github",
        "colab_type": "text"
      },
      "source": [
        "<a href=\"https://colab.research.google.com/github/AJJAMPUR-Amogh/Assignment/blob/main/Python_Assignment_05.ipynb\" target=\"_parent\"><img src=\"https://colab.research.google.com/assets/colab-badge.svg\" alt=\"Open In Colab\"/></a>"
      ]
    },
    {
      "cell_type": "markdown",
      "source": [
        "# ASSIGNMENTS \n",
        "## Send it before 0000 hrs IST or 12 AM Friday\n",
        "\n",
        "## NOTE: Evaluation will be done before next class.\n",
        "\n",
        "## HOW TO SUBMIT: -\n",
        "Download this notebook, Solve it and upload in the google form given in the mail."
      ],
      "metadata": {
        "id": "dkGbTD94s6CD"
      }
    },
    {
      "cell_type": "markdown",
      "source": [
        "# List, Tuple and Sets"
      ],
      "metadata": {
        "id": "n3FuI-mutNl6"
      }
    },
    {
      "cell_type": "markdown",
      "source": [
        "#### 1. On amazon website we have the following available items - \n",
        "\n",
        "```python\n",
        "amazon_website = [(\"watch\", 5000), (\"phone\", 10000), (\"laptop\", 50000), (\"shirt\", 1000)]\n",
        "```\n",
        "Take the user input N no. of times and find out the total cost to be paid?\n",
        "\n",
        "OR\n",
        "\n",
        "You can ask the user quntity or the count of item?\n",
        "\n",
        "if the item is not present in the amazon website then print that item as out of stock and do add it total\n",
        "\n",
        "\n",
        "HINT: while, for loop.. indexing"
      ],
      "metadata": {
        "id": "NQHX0c0NOVsh"
      }
    },
    {
      "cell_type": "code",
      "source": [
        "amazon_website = [(\"watch\", 5000), (\"phone\", 10000), (\"laptop\", 50000), (\"shirt\", 1000)]\n",
        "amazon_website[0][1]\n",
        "print('The products availalble are:')\n",
        "for i in amazon_website :\n",
        "   print(f'A {i[0]} costs {i[1]} rupees')\n",
        "done = True \n",
        "total_sum = 0\n",
        "\n",
        "while done : \n",
        "  choice = input('Enter the product you want to buy ')\n",
        "  if choice == 'watch' :\n",
        "    quantity = int(input('How many quantity is needed'))\n",
        "    a,b = amazon_website[0]\n",
        "    total_sum = total_sum + quantity*b\n",
        "  elif choice == 'phone' :\n",
        "    quantity = int(input('How many quantity is needed'))\n",
        "    a,b = amazon_website[1]\n",
        "    total_sum = total_sum + quantity*b\n",
        "  elif choice == 'laptop' :\n",
        "    quantity = int(input('How many quantity is needed'))\n",
        "    a,b = amazon_website[2]\n",
        "    total_sum = total_sum + quantity*b\n",
        "  elif choice == 'shirt' :\n",
        "    quantity = int(input('How many quantity is needed'))\n",
        "    a,b = amazon_website[3]\n",
        "    total_sum = total_sum + quantity*b\n",
        "  elif choice != ['watch','phone','laptop','shirt'] :\n",
        "    print('The items you chose is out of stock!')\n",
        "    print('Please choose in the list above')\n",
        "  \n",
        "  end = input('DO you want to add any other items (Y/N)')\n",
        "  if end == 'Y' :\n",
        "    print('please do the choice')\n",
        "  elif end == 'N':\n",
        "    done = False\n",
        "    print('Thank you for shoping in amazon')\n",
        "    print(f'The total amount to be paid is {total_sum}') \n",
        "      \n",
        "  \n",
        "    "
      ],
      "metadata": {
        "id": "35wNz0PdnbBG",
        "colab": {
          "base_uri": "https://localhost:8080/"
        },
        "outputId": "a143d92c-14f0-4ffb-be45-7744fa5db088"
      },
      "execution_count": 3,
      "outputs": [
        {
          "output_type": "stream",
          "name": "stdout",
          "text": [
            "The products availalble are:\n",
            "A watch costs 5000 rupees\n",
            "A phone costs 10000 rupees\n",
            "A laptop costs 50000 rupees\n",
            "A shirt costs 1000 rupees\n",
            "Enter the product you want to buy sksdvfkgkl]\n",
            "The items you chose is out of stock!\n",
            "Please choose in the list above\n",
            "DO you want to add any other items (Y/N)N\n",
            "Thank you for shoping in amazon\n",
            "The total amount to be paid is 0\n"
          ]
        }
      ]
    },
    {
      "cell_type": "code",
      "source": [
        " "
      ],
      "metadata": {
        "id": "TZ-zVAOYnbbi"
      },
      "execution_count": null,
      "outputs": []
    },
    {
      "cell_type": "code",
      "source": [
        "amazon_website = [(\"watch\", 5000), (\"phone\", 10000), (\"laptop\", 50000), (\"shirt\", 1000)]\n",
        "a,b = amazon_website[1]\n",
        "b"
      ],
      "metadata": {
        "id": "fcH6bUwbSscz",
        "outputId": "a9477f63-3a85-4494-c7e5-1ac237f48e57",
        "colab": {
          "base_uri": "https://localhost:8080/"
        }
      },
      "execution_count": null,
      "outputs": [
        {
          "output_type": "execute_result",
          "data": {
            "text/plain": [
              "10000"
            ]
          },
          "metadata": {},
          "execution_count": 8
        }
      ]
    },
    {
      "cell_type": "markdown",
      "source": [
        "### 2. What will be the output of the following code snippet?\n",
        "\n",
        "```\n",
        "arr = [1, 2, 3, 4, 5, 6]\n",
        "for i in range(1, 6):\n",
        "    arr[i - 1] = arr[i]\n",
        "for i in range(0, 6): \n",
        "    print(arr[i], end = \" \")\n",
        "```"
      ],
      "metadata": {
        "id": "vvYoaZr9Ocjj"
      }
    },
    {
      "cell_type": "code",
      "source": [
        "arr = [1, 2, 3, 4, 5, 6]\n",
        "for i in range(1, 6):\n",
        "    arr[i - 1] = arr[i]\n",
        "for i in range(0, 6): \n",
        "    print(arr[i], end = \" \")"
      ],
      "metadata": {
        "colab": {
          "base_uri": "https://localhost:8080/"
        },
        "id": "tEV4K3lHWCSw",
        "outputId": "24b55e4b-f387-40c3-b3d2-056991deeac7"
      },
      "execution_count": null,
      "outputs": [
        {
          "output_type": "stream",
          "name": "stdout",
          "text": [
            "2 3 4 5 6 6 "
          ]
        }
      ]
    },
    {
      "cell_type": "markdown",
      "source": [
        "In this program we are reassigning the list arr to new values. starting from 0 to 5 we assign the value of next index to the previous index. we are moving a value to previous index. "
      ],
      "metadata": {
        "id": "LDGum7C-W4Lb"
      }
    },
    {
      "cell_type": "markdown",
      "source": [
        "### 3  Write a Python program to find the repeated items of a tuple.\n"
      ],
      "metadata": {
        "id": "kYimkVfsX4m6"
      }
    },
    {
      "cell_type": "code",
      "source": [
        "\n",
        "tup = ( 36, 45,85,55,6,22,6,4,99,6)\n",
        "set1 = set(tup) \n",
        "\n",
        "for items in set1 :\n",
        "  print(f'The {items} is repeated {tup.count(items)} of times')\n",
        "\n",
        "\n"
      ],
      "metadata": {
        "colab": {
          "base_uri": "https://localhost:8080/"
        },
        "id": "hQcbhCJVWDBU",
        "outputId": "5c6145f4-c0e4-413d-91f2-b08a0f3c38ce"
      },
      "execution_count": null,
      "outputs": [
        {
          "output_type": "stream",
          "name": "stdout",
          "text": [
            "The 99 is repeated 1 of times\n",
            "The 36 is repeated 1 of times\n",
            "The 4 is repeated 1 of times\n",
            "The 6 is repeated 3 of times\n",
            "The 45 is repeated 1 of times\n",
            "The 85 is repeated 1 of times\n",
            "The 22 is repeated 1 of times\n",
            "The 55 is repeated 1 of times\n"
          ]
        }
      ]
    },
    {
      "cell_type": "markdown",
      "source": [
        "### 4. Replace last value of tuples in a list with 500. Try using list comprehension\n",
        "\n",
        "Example -: \n",
        "```\n",
        "Input -:\n",
        "\n",
        "[(10, 20, 40), (40, 50, 60), (70, 80, 90)]\n",
        "\n",
        "Output -:\n",
        "[(10, 20, 500), (40, 50, 500), (70, 80, 500)]\n",
        "\n",
        "\n",
        "```\n"
      ],
      "metadata": {
        "id": "9JTMLTFVOlrK"
      }
    },
    {
      "cell_type": "code",
      "source": [
        "\n",
        "list = [(10, 20, 40), (40, 50, 60), (70, 80, 90)]\n",
        "print([x[:-1] + (500,) for x in l])"
      ],
      "metadata": {
        "colab": {
          "base_uri": "https://localhost:8080/"
        },
        "id": "bKyS5JALYaiQ",
        "outputId": "9583e98b-b9dc-4c61-c5b4-062e4ab7c842"
      },
      "execution_count": null,
      "outputs": [
        {
          "output_type": "stream",
          "name": "stdout",
          "text": [
            "[(10, 20, 500), (40, 50, 500), (70, 80, 500)]\n"
          ]
        }
      ]
    },
    {
      "cell_type": "code",
      "source": [],
      "metadata": {
        "id": "vIXqSQk-ggr1"
      },
      "execution_count": null,
      "outputs": []
    }
  ]
}
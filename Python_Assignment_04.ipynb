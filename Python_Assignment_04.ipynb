{
  "nbformat": 4,
  "nbformat_minor": 0,
  "metadata": {
    "colab": {
      "provenance": [],
      "collapsed_sections": [],
      "include_colab_link": true
    },
    "kernelspec": {
      "name": "python3",
      "display_name": "Python 3"
    },
    "language_info": {
      "name": "python"
    }
  },
  "cells": [
    {
      "cell_type": "markdown",
      "metadata": {
        "id": "view-in-github",
        "colab_type": "text"
      },
      "source": [
        "<a href=\"https://colab.research.google.com/github/AJJAMPUR-Amogh/Assignment/blob/main/Python_Assignment_04.ipynb\" target=\"_parent\"><img src=\"https://colab.research.google.com/assets/colab-badge.svg\" alt=\"Open In Colab\"/></a>"
      ]
    },
    {
      "cell_type": "markdown",
      "source": [
        "# ASSIGNMENTS \n",
        "## Send it before 0000 hrs IST or 12 AM Wednesday\n",
        "\n",
        "## NOTE: Evaluation will be done before next class.\n",
        "\n",
        "## HOW TO SUBMIT: -\n",
        "Download this notebook, Solve it and upload in the google form given in the mail."
      ],
      "metadata": {
        "id": "dkGbTD94s6CD"
      }
    },
    {
      "cell_type": "markdown",
      "source": [
        "## control flow and conditional statements"
      ],
      "metadata": {
        "id": "n3FuI-mutNl6"
      }
    },
    {
      "cell_type": "markdown",
      "source": [
        "Q1. Find the largest number from the given list, use for loop.\n",
        "\n",
        "numbers = [12, 75, 150, 180, 145, 525, 50]"
      ],
      "metadata": {
        "id": "uZB7HRhcd73-"
      }
    },
    {
      "cell_type": "code",
      "source": [
        "numbers = [12, 75, 150, 180, 145, 525, 50]\n",
        "max(numbers)"
      ],
      "metadata": {
        "id": "z-GDgPn3Nr0y",
        "outputId": "2a7e0c48-98b2-4955-dfa5-051de430421f",
        "colab": {
          "base_uri": "https://localhost:8080/"
        }
      },
      "execution_count": 2,
      "outputs": [
        {
          "output_type": "execute_result",
          "data": {
            "text/plain": [
              "525"
            ]
          },
          "metadata": {},
          "execution_count": 2
        }
      ]
    },
    {
      "cell_type": "markdown",
      "source": [
        " Q2. Print all the even number between (1, 12)."
      ],
      "metadata": {
        "id": "IjSFhpPWei3y"
      }
    },
    {
      "cell_type": "code",
      "source": [
        "for i in range(1,13) :\n",
        "  print(i, end = '  ')"
      ],
      "metadata": {
        "id": "YrHmzvz-d8_k",
        "outputId": "49aaf56f-0f21-417f-9951-46ec374ae32d",
        "colab": {
          "base_uri": "https://localhost:8080/"
        }
      },
      "execution_count": 5,
      "outputs": [
        {
          "output_type": "stream",
          "name": "stdout",
          "text": [
            "1  2  3  4  5  6  7  8  9  10  11  12  "
          ]
        }
      ]
    },
    {
      "cell_type": "markdown",
      "source": [
        "Q3. Calculate the sum of all numbers from 1 to a given number\n"
      ],
      "metadata": {
        "id": "hNe4IJe7e_qv"
      }
    },
    {
      "cell_type": "code",
      "source": [
        "N = int(input('Enter the number to find AP of a number'))\n",
        "sum = 0\n",
        "for i in range(1,N+1) :\n",
        "  sum = sum + i\n",
        "print(sum)"
      ],
      "metadata": {
        "id": "8RIioCJdeynM",
        "outputId": "b05000ba-cf71-407b-b304-beede5456ba7",
        "colab": {
          "base_uri": "https://localhost:8080/"
        }
      },
      "execution_count": 8,
      "outputs": [
        {
          "output_type": "stream",
          "name": "stdout",
          "text": [
            "Enter the number to find AP of a number10\n",
            "55\n"
          ]
        }
      ]
    },
    {
      "cell_type": "markdown",
      "source": [
        "Q4. Write a program to display only those numbers from a list that satisfy the  following conditions\n",
        "\n",
        "  The number must be divisible by five\n",
        "\n",
        "  If the number is greater than 150, then skip it and move to the next number\n",
        "\n",
        "  If the number is greater than 500, then stop the loop"
      ],
      "metadata": {
        "id": "UbBu54DyhgFU"
      }
    },
    {
      "cell_type": "code",
      "source": [
        "numbers = [12, 75, 150, 180, 145, 525, 50]\n",
        "disp = []\n",
        "for N in num :\n",
        "  if N%5 == 0 and N <= 150 :\n",
        "    disp.append(N)\n",
        "    if N > 150 and N< 500 :\n",
        "      continue \n",
        "    elif N > 500 :\n",
        "      break\n",
        "print('List of numbers', num)\n",
        "print(\"List of numbers with conditions above\",disp)"
      ],
      "metadata": {
        "id": "RVKAI32ahTuH",
        "outputId": "8935ab4f-ebf8-45d3-a231-8c3aa58bbe32",
        "colab": {
          "base_uri": "https://localhost:8080/"
        }
      },
      "execution_count": 12,
      "outputs": [
        {
          "output_type": "stream",
          "name": "stdout",
          "text": [
            "List of numbers [1, 25, 32, 60, 99, 150, 250, 697, 350]\n",
            "List of numbers with conditions above [25, 60, 150]\n"
          ]
        }
      ]
    },
    {
      "cell_type": "markdown",
      "source": [
        "Q5. Print the given list in reverse order.\n",
        "```\n",
        "list1 = [10, 20, 30, 40, 50]\n",
        "```"
      ],
      "metadata": {
        "id": "NAblDoY6kizF"
      }
    },
    {
      "cell_type": "code",
      "source": [
        "list1 = [10, 20, 30, 40, 50]\n",
        "print('The reversed list')\n",
        "list1[::-1]"
      ],
      "metadata": {
        "id": "l_jCsCMZjyqr",
        "outputId": "2dbbb1ef-f131-4c74-a18b-ee9664fb9f5b",
        "colab": {
          "base_uri": "https://localhost:8080/"
        }
      },
      "execution_count": 15,
      "outputs": [
        {
          "output_type": "stream",
          "name": "stdout",
          "text": [
            "The reversed list\n"
          ]
        },
        {
          "output_type": "execute_result",
          "data": {
            "text/plain": [
              "[50, 40, 30, 20, 10]"
            ]
          },
          "metadata": {},
          "execution_count": 15
        }
      ]
    },
    {
      "cell_type": "code",
      "source": [],
      "metadata": {
        "id": "M9kTHKJ2k3gv"
      },
      "execution_count": null,
      "outputs": []
    }
  ]
}